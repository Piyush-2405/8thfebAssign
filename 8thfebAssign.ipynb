{
 "cells": [
  {
   "cell_type": "markdown",
   "id": "4844b566-6193-4551-b0be-7f9b015a88e6",
   "metadata": {},
   "source": [
    "Q1. What is Abstraction in OOps? Explain with an example. \n"
   ]
  },
  {
   "cell_type": "markdown",
   "id": "887cd48f-e537-42ab-a3b9-eae39840ad7d",
   "metadata": {},
   "source": [
    "Abstraction is a fundamental concept in Object-Oriented Programming (OOP) that refers to the ability to focus on essential information and\n",
    "ignore the details that are not relevant to the current context.\n",
    "In Python, abstraction is achieved through the use of abstract classes and interfaces."
   ]
  },
  {
   "cell_type": "code",
   "execution_count": null,
   "id": "e9ebce9e-30b6-42ba-a397-2fa13627ae5b",
   "metadata": {},
   "outputs": [],
   "source": [
    "from abc import ABC, abstractmethod   \n",
    "class Car(ABC):   \n",
    "    def mileage(self):   \n",
    "        pass  \n",
    "  \n",
    "class Tesla(Car):   \n",
    "    def mileage(self):   \n",
    "        print(\"The mileage is 30kmph\")   \n",
    "class Suzuki(Car):   \n",
    "    def mileage(self):   \n",
    "        print(\"The mileage is 25kmph \")   \n",
    "class Duster(Car):   \n",
    "     def mileage(self):   \n",
    "          print(\"The mileage is 24kmph \")   \n",
    "  \n",
    "class Renault(Car):   \n",
    "    def mileage(self):   \n",
    "            print(\"The mileage is 27kmph \")   \n",
    "             \n",
    "t= Tesla ()   \n",
    "t.mileage()   \n",
    "  \n",
    "r = Renault()   \n",
    "r.mileage()   \n",
    "  \n",
    "s = Suzuki()   \n",
    "s.mileage()   \n",
    "d = Duster()   \n",
    "d.mileage()  "
   ]
  },
  {
   "cell_type": "markdown",
   "id": "bb685f73-d837-42ce-99d5-a015a8905012",
   "metadata": {},
   "source": [
    "Q2. Differentiate between Abstraction and Encapsulation. Explain with an example."
   ]
  },
  {
   "cell_type": "markdown",
   "id": "31d44b26-6172-4c0d-b782-d0fe23c7fd26",
   "metadata": {},
   "source": [
    "Abstraction and Encapsulation are two fundamental concepts in Object-Oriented Programming (OOP) that are often used together to create modular and maintainable code. While both concepts are related, they are distinct from each other in terms of their purpose and implementation.\n",
    "\n",
    "Abstraction is a process of representing the essential features of an object, ignoring the non-essential details. It is a technique used to simplify complex systems by breaking them down into smaller, more manageable pieces. Abstraction allows us to create a model of a system that captures its key characteristics without getting bogged down in unnecessary detail. In programming, abstraction is often achieved using abstract classes or interfaces.\n",
    "\n",
    "Encapsulation, on the other hand, is a technique used to hide the internal details of an object from the outside world. It is a way of creating a boundary around an object and its data, ensuring that only the methods defined by the object can access and modify its internal state. Encapsulation helps to maintain the integrity of an object's data by preventing unauthorized access or modification.\n",
    "\n",
    "Here's an example that illustrates the difference between abstraction and encapsulation:\n",
    "\n",
    "Suppose you're building a car. Abstraction would involve identifying the essential features of a car, such as its ability to move, stop, and turn. You would then create an abstract model of a car that captures these features, without getting bogged down in details such as the engine's inner workings or the exact dimensions of the car.\n",
    "\n",
    "Encapsulation would involve hiding the internal details of the car, such as the engine, transmission, and brakes, from the outside world. You would define a set of methods that allow the car to be operated, such as \"accelerate,\" \"brake,\" and \"turn,\" and ensure that these methods are the only way to interact with the car's internal state. This ensures that the car's data is not tampered with by unauthorized access.\n",
    "\n",
    "In short, abstraction is about simplifying a complex system, while encapsulation is about protecting an object's internal state from unauthorized access. Both concepts are important for creating maintainable and modular code, and they often work together to achieve this goal.\n"
   ]
  },
  {
   "cell_type": "markdown",
   "id": "0a3a0d4a-b152-4166-b3ed-b85844bb9fb9",
   "metadata": {},
   "source": [
    "Q3. What is abc module in python? Why is it used? \n"
   ]
  },
  {
   "cell_type": "markdown",
   "id": "d641d4bc-ac17-4590-a29b-ff598c9a2f52",
   "metadata": {},
   "source": [
    "A class is called an Abstract class if it contains one or more abstract methods. An abstract method is a method that is declared, but contains no implementation. Abstract classes may not be instantiated, and its abstract methods must be implemented by its subclasses.\n",
    "\n",
    "The 'abc' module in the Python library provides the infrastructure for defining custom abstract base classes. Abstract class cannot be instantiated in python. An Abstract method can be call by its subclasses"
   ]
  },
  {
   "cell_type": "markdown",
   "id": "4dda2853-7d19-4f5f-887a-1afa2cf58eb0",
   "metadata": {},
   "source": [
    "Q4. How can we achieve data abstraction?"
   ]
  },
  {
   "cell_type": "markdown",
   "id": "46b3b4b1-be7f-493a-b4e9-100c9ceb14f3",
   "metadata": {},
   "source": [
    "In Python, abstraction can be achieved by using abstract classes and interfaces.\n",
    "\n",
    "A class that consists of one or more abstract method is called the abstract class. Abstract methods do not contain their implementation. Abstract class can be inherited by the subclass and abstract method gets its definition in the subclass. Abstraction classes are meant to be the blueprint of the other class. An abstract class can be useful when we are designing large functions. An abstract class is also helpful to provide the standard interface for different implementations of components. Python provides the abc module to use the abstraction in the Python program. Let's see the following syntax."
   ]
  },
  {
   "cell_type": "code",
   "execution_count": null,
   "id": "1b3681bc-1735-4baa-a400-e5290b665b92",
   "metadata": {},
   "outputs": [],
   "source": [
    "from abc import ABC  \n",
    "class ClassName(ABC):  "
   ]
  },
  {
   "cell_type": "markdown",
   "id": "9cadb752-223b-4e87-b660-58210d66467f",
   "metadata": {},
   "source": [
    "Q5. Can we create an instance of an abstract class? Explain your answer. \n"
   ]
  },
  {
   "cell_type": "code",
   "execution_count": null,
   "id": "53863068-933b-40e3-93cd-59f27d02b092",
   "metadata": {},
   "outputs": [],
   "source": []
  }
 ],
 "metadata": {
  "kernelspec": {
   "display_name": "Python 3 (ipykernel)",
   "language": "python",
   "name": "python3"
  },
  "language_info": {
   "codemirror_mode": {
    "name": "ipython",
    "version": 3
   },
   "file_extension": ".py",
   "mimetype": "text/x-python",
   "name": "python",
   "nbconvert_exporter": "python",
   "pygments_lexer": "ipython3",
   "version": "3.10.8"
  }
 },
 "nbformat": 4,
 "nbformat_minor": 5
}
